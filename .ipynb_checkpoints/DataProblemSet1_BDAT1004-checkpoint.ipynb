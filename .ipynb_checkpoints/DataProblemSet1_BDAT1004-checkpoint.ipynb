{
 "cells": [
  {
   "cell_type": "markdown",
   "id": "e384f64d",
   "metadata": {},
   "source": [
    "# Betsabé Gómez Romero\n",
    "DataSet #1\n"
   ]
  },
  {
   "cell_type": "markdown",
   "id": "a601de2c",
   "metadata": {},
   "source": [
    "Question 1 C#\n",
    "\n",
    "What data type is each of the following?\n",
    "\n",
    "5 ------- integer\n",
    "5.0-------Floating point number\n",
    "5 > 1-----Boolean\n",
    "'5'----- character\n",
    "5 * 2 ---- Arithmetic Operator\n",
    "'5' * 2 --- Class with arithmetic operator\n",
    "'5' + '2'----Class\n",
    "5 / 2 ----  Arithmetic Operator Division\n",
    "5 % 2----- Arithmetic Operator remainder\n",
    "{5, 2, 1} ---- Array\n",
    "5 == 3 ----Relational operator\n",
    "Pi (the number)---- double number"
   ]
  },
  {
   "cell_type": "code",
   "execution_count": null,
   "id": "a1e34e8f",
   "metadata": {},
   "outputs": [],
   "source": [
    "#Question 2 C#\n",
    "#a)\n",
    "\n",
    "Console.WriteLine(\"How many letters are there in Supercalifragilisticexpialidocious?\");\n",
    "\n",
    "string word1 = \"Supercalifragilisticexpialidocious\";\n",
    "string word2 = \"Honorificabilitudinitatibus\";\n",
    "string word3 = \"Bababadalgharaghtakamminarronnkonn\";\n",
    "\n",
    "\n",
    "Console.WriteLine(\"The lenght of \" + (word1) + \" is: \" + (word1.Length) + \" letters\");\n",
    "\n",
    "\n",
    "output: How many letters are there in Supercalifragilisticexpialidocious?\n",
    "The lenght of Supercalifragilisticexpialidocious is: 34 letters"
   ]
  },
  {
   "cell_type": "code",
   "execution_count": null,
   "id": "bc835167",
   "metadata": {},
   "outputs": [],
   "source": [
    "#b)\n",
    "string word1 = \"Supercalifragilisticexpialidocious\";\n",
    "string word2 = \"Honorificabilitudinitatibus\";\n",
    "string word3 = \"Bababadalgharaghtakamminarronnkonn\";\n",
    "string substring = \"ice\";\n",
    "\n",
    "\n",
    "\n",
    "\n",
    "Console.WriteLine(\"Does \" + (word1) + \" contain 'ice' as a substring?\");\n",
    "\n",
    "bool result = word1.Contains(substring);\n",
    "Console.WriteLine(\"The string '{0}' contains '{1}'? -> '{2}'\", word1, substring, result);\n",
    "\n",
    "output: Does Supercalifragilisticexpialidocious contain 'ice' as a substring?\n",
    "The string 'Supercalifragilisticexpialidocious' contains 'ice'? -> 'True'"
   ]
  },
  {
   "cell_type": "code",
   "execution_count": null,
   "id": "1ae4b296",
   "metadata": {},
   "outputs": [],
   "source": [
    "#c)\n",
    "\n",
    "var words = new List<string>();\n",
    "words.Add(word1);\n",
    "words.Add(word2);\n",
    "words.Add(word3);\n",
    "\n",
    "Console.WriteLine(\"Which of the following words is the longest:\\r\\nSupercalifragilisticexpialidocious, Honorificabilitudinitatibus, or Bababadalgharaghtakamminarronnkonn?\");\n",
    "foreach (var word in words)\n",
    "{\n",
    "    Console.WriteLine(\"The Length of \" + (word) + \"is: \" + (word.Length) + \" letters\");\n",
    "\n",
    "}\n",
    "\n",
    "\n",
    "Console.WriteLine(\"The longest word is: \" + words.Last());\n",
    "\n",
    "Output: The longest word is: Bababadalgharaghtakamminarronnkonn\n",
    "\n"
   ]
  },
  {
   "cell_type": "code",
   "execution_count": null,
   "id": "217e854a",
   "metadata": {},
   "outputs": [],
   "source": [
    "#d)\n",
    "Console.WriteLine(\"Which composer comes first in the dictionary: 'Berlioz', 'Borodin', 'Brian','Bartok', 'Bellini', 'Buxtehude', 'Bernstein'. Which one comes last?\");\n",
    "\n",
    "string C1 = \"Berlioz\";\n",
    "string C2 = \"Borodin\";\n",
    "string C3 = \"Brian\";\n",
    "string C4 = \"Bartok\";\n",
    "string C5 = \"Bellini\";\n",
    "string C6 = \"Buxtehude\";\n",
    "string C7 = \"Bernstein\";\n",
    "\n",
    "var composers = new SortedSet<string>();\n",
    "composers.Add(C1);\n",
    "composers.Add(C2);\n",
    "composers.Add(C3);\n",
    "composers.Add(C4);\n",
    "composers.Add(C5);\n",
    "composers.Add(C6);\n",
    "composers.Add(C7);\n",
    "\n",
    "\n",
    "foreach (var composer in composers)\n",
    "{\n",
    "    Console.WriteLine(composer); \n",
    "}\n",
    "\n",
    "Console.WriteLine(\"The composer that will be first in the dictionary is: \" + composers.First());\n",
    "Console.WriteLine(\"The composer that will be last in the dictionary is: \" + composers.Last());\n",
    "\n",
    "\n",
    "Output: Which composer comes first in the dictionary: 'Berlioz', 'Borodin', 'Brian','Bartok', 'Bellini', 'Buxtehude', 'Bernstein'. Which one comes last?\n",
    "Bartok\n",
    "Bellini\n",
    "Berlioz\n",
    "Bernstein\n",
    "Borodin\n",
    "Brian\n",
    "Buxtehude\n",
    "The composer that will be first in the dictionary is: Bartok\n",
    "The composer that will be last in the dictionary is: Buxtehude"
   ]
  },
  {
   "cell_type": "code",
   "execution_count": null,
   "id": "2c13d6a6",
   "metadata": {},
   "outputs": [],
   "source": [
    "#Question 3 C#\n",
    "static double TriangleArea(double a, double b, double c)\n",
    "{\n",
    "    double s = (a + b + c) / 2;\n",
    "    double area = Math.Sqrt(s * (s - a) * (s - b) * (s - c));\n",
    "    return area;\n",
    "\n",
    "\n",
    "\n",
    "}\n",
    "Console.WriteLine($\"The area of the triangle is {TriangleArea(2, 2, 2)}\");\n",
    "Console.WriteLine(TriangleArea(2, 2, 2));\n",
    "\n",
    "Output: The area of the triangle is 1.7320508075688772\n"
   ]
  },
  {
   "cell_type": "code",
   "execution_count": null,
   "id": "8cb84869",
   "metadata": {},
   "outputs": [],
   "source": [
    "#Question 4 C#\n",
    "\n",
    "Console.WriteLine(\"For the next numbers, which one is an even number and an odd number?:\");\n",
    "\n",
    "int[] arr = new int[5];\n",
    "arr[0] = 25;\n",
    "arr[1] = 47;\n",
    "arr[2] = 42;\n",
    "arr[3] = 56;\n",
    "arr[4] = 32;\n",
    "\n",
    "for (int i = 0;i < arr.Length;i++)\n",
    "{\n",
    "    Console.WriteLine(arr[i]);\n",
    "}\n",
    "\n",
    "foreach (int i in arr)\n",
    "{\n",
    "    if (i % 2 == 0)\n",
    "    {\n",
    "        Console.WriteLine($\"The number {i} is an Even number\");\n",
    "    }\n",
    "\n",
    "    else \n",
    "    {\n",
    "        Console.WriteLine($\"The number {i} is an Odd number\");\n",
    "    }\n",
    "\n",
    "}\n",
    "\n",
    "Output: For the next numbers, which one is an even number and an odd number?:\n",
    "25\n",
    "47\n",
    "42\n",
    "56\n",
    "32\n",
    "The number 25 is an Odd number\n",
    "The number 47 is an Odd number\n",
    "The number 42 is an Even number\n",
    "The number 56 is an Even number\n",
    "The number 32 is an Even number"
   ]
  },
  {
   "cell_type": "code",
   "execution_count": null,
   "id": "3679b88f",
   "metadata": {},
   "outputs": [],
   "source": [
    "#Question 5 C#\n",
    "\n",
    "#a)\n",
    "tatic bool inside(int x, int y, int x1, int y1, int x2, int y2)\n",
    "{\n",
    "    if (x > x1 && x < x2 &&\n",
    "    y > y1 && y < y2)\n",
    "        return true;\n",
    "\n",
    "    return false;\n",
    "\n",
    "\n",
    "\n",
    "}\n",
    "\n",
    "Console.WriteLine(\"The point (1,1) falls into the rectagle (0,0,2,3)?\");\n",
    "Console.WriteLine(inside(1, 1, 0, 0, 2, 3));\n",
    "\n",
    "Console.WriteLine(\"The point (-1, -1) falls into rectangle (0,0,2,3)?\");\n",
    "Console.WriteLine(inside(-1, -1, 0, 0, 2, 3));\n",
    "\n",
    "Output: The point (1,1) falls into the rectagle (0,0,2,3)?\n",
    "True\n",
    "The point (-1, -1) falls into rectangle (0,0,2,3)?\n",
    "False\n",
    "\n"
   ]
  },
  {
   "cell_type": "code",
   "execution_count": null,
   "id": "1c9ec0f0",
   "metadata": {},
   "outputs": [],
   "source": [
    "#b)\n",
    "static bool insideB(double x, double y, double x1, double y1, double x2, double y2)\n",
    "{\n",
    "    if (x > x1 && x < x2 &&\n",
    "    y > y1 && y < y2)\n",
    "        return true;\n",
    "\n",
    "    return false;\n",
    "\n",
    "\n",
    "\n",
    "}\n",
    "\n",
    "Console.WriteLine(\"The point (1,1) falls into the rectagle (1.1,0.7,1.1,2)?\");\n",
    "Console.WriteLine(insideB(1, 1, 1.1, 0.7, 1.1, 2));\n",
    "\n",
    "Console.WriteLine(\"The point (1, 1) falls into rectangle (0.5,0.2,1.1,2)?\");\n",
    "Console.WriteLine(insideB(1, 1, 0.5, 0.2, 1.1, 2));\n",
    "\n",
    "Output: The point (1,1) falls into the rectagle (1.1,0.7,1.1,2)?\n",
    "False\n",
    "The point (1, 1) falls into rectangle (0.5,0.2,1.1,2)?\n",
    "True"
   ]
  },
  {
   "cell_type": "code",
   "execution_count": 20,
   "id": "b2c0c9e0",
   "metadata": {},
   "outputs": [
    {
     "name": "stdout",
     "output_type": "stream",
     "text": [
      "Please enter a word or sentence: Hello purple Dinosaur \n",
      "ellohay urplepay inosaurday\n"
     ]
    }
   ],
   "source": [
    "#Question 6 Python\n",
    "\n",
    "english_sentence = input(\"Please enter a word or sentence: \").lower()\n",
    "english_words = english_sentence.split()\n",
    "latin_words = []\n",
    "\n",
    "vowels = ['a','e','i','o','u']\n",
    "\n",
    "for word in english_words:\n",
    "    has_vowel = False\n",
    "\n",
    "    for i in range(len(word)):\n",
    "        \n",
    "        \n",
    "        if word[0] in vowels:\n",
    "            latin_words.append(word + \"yay\")\n",
    "            break\n",
    "        else:\n",
    "            \n",
    "            \n",
    "            if word[i] in vowels:\n",
    "                latin_words.append(word[i:] + word[:i] + \"ay\")\n",
    "                has_vowel = True\n",
    "                break\n",
    "\n",
    "            \n",
    "            if(has_vowel == False and i == len(word)-1):\n",
    "                latin_words.append(word + \"ay\")\n",
    "                break\n",
    "\n",
    "\n",
    "pig_latin_sentence = ' '.join(latin_words)\n",
    "print(pig_latin_sentence)"
   ]
  },
  {
   "cell_type": "code",
   "execution_count": 7,
   "id": "0d9e21d9",
   "metadata": {},
   "outputs": [
    {
     "name": "stdout",
     "output_type": "stream",
     "text": [
      "['AB \\n', 'AB \\n', 'B \\n', 'O \\n', 'A \\n', 'A \\n', 'AB \\n', 'O \\n', 'AB \\n', 'A \\n', 'O \\n', 'O \\n', 'A \\n', 'A \\n', 'A \\n', 'O \\n', 'O \\n', 'O \\n', 'AB \\n', 'O \\n', 'A \\n', 'A \\n', 'A \\n', 'A \\n', 'A \\n', 'AB \\n', 'AB \\n', 'A \\n', 'AB \\n', 'O \\n', 'AB \\n', 'O \\n', 'A \\n', 'O \\n', 'O \\n', 'O \\n', 'AB \\n', 'O \\n', 'AB \\n', 'AB \\n', 'AB \\n', 'A \\n', 'A \\n', 'O ']\n",
      "There are  15  patients with blood type A\n",
      "There is  1   patient with blood type B\n",
      "There are  14  patients with blood type O\n",
      "There are  13  patients with blood type AB\n",
      "There are  0  patients with blood type OO\n"
     ]
    }
   ],
   "source": [
    "#Question 7 Python\n",
    "BloodType = \"BloodType1.txt\"\n",
    "\n",
    "with open(BloodType) as f_obj:\n",
    "    bldcount = f_obj.readlines()\n",
    "\n",
    "print(bldcount)\n",
    "\n",
    "print(\"There are \", bldcount.count('A \\n'), \" patients with blood type A\")\n",
    "print(\"There is \", bldcount.count('B \\n'), \"  patient with blood type B\")\n",
    "print(\"There are \", bldcount.count('O \\n'), \" patients with blood type O\")\n",
    "print(\"There are \", bldcount.count('AB \\n'), \" patients with blood type AB\")\n",
    "print(\"There are \", bldcount.count('OO \\n'), \" patients with blood type OO\")\n",
    "\n",
    "\n"
   ]
  },
  {
   "cell_type": "code",
   "execution_count": 34,
   "id": "47573692",
   "metadata": {},
   "outputs": [
    {
     "data": {
      "text/plain": [
       "['AUD\\t1.0345157\\tAustralian Dollar\\n',\n",
       " 'CHF\\t1.0237414\\tSwiss Franc\\n',\n",
       " 'CNY\\t0.1550176\\tChinese Yuan\\n',\n",
       " 'DKK\\t0.1651442\\tDanish Krone\\n',\n",
       " 'EUR\\t1.2296544\\tEuro\\n',\n",
       " 'GBP\\t1.5550989\\tBritish Pound\\n',\n",
       " 'HKD\\t0.1270207\\tHong Kong Dollar\\n',\n",
       " 'INR\\t0.0177643\\tIndian Rupee\\n',\n",
       " 'JPY\\t0.01241401\\tJapanese Yen\\n',\n",
       " 'MXN\\t0.0751848\\tMexican Peso\\n',\n",
       " 'MYR\\t0.3145411\\tMalaysian Ringgit\\n',\n",
       " 'NOK\\t0.1677063\\tNorwegian Krone\\n',\n",
       " 'NZD\\t0.8003591\\tNew Zealand Dollar\\n',\n",
       " 'PHP\\t0.0233234\\tPhilippine Peso\\n',\n",
       " 'SEK\\t0.148269\\tSwedish Krona\\n',\n",
       " 'SGD\\t0.788871\\tSingapore Dollar\\n',\n",
       " 'THB\\t0.0313789\\tThai Baht']"
      ]
     },
     "execution_count": 34,
     "metadata": {},
     "output_type": "execute_result"
    }
   ],
   "source": [
    "# Question 8 Python\n",
    "\n",
    "\n",
    "infile = open('currencies.txt')\n",
    "infile.readlines()\n",
    "\n",
    "#Tried but not succesful in outputs. I will remain attentive to any feedback\n",
    "    "
   ]
  },
  {
   "cell_type": "code",
   "execution_count": 36,
   "id": "524a204c",
   "metadata": {},
   "outputs": [
    {
     "ename": "TypeError",
     "evalue": "unsupported operand type(s) for +: 'int' and 'str'",
     "output_type": "error",
     "traceback": [
      "\u001b[1;31m---------------------------------------------------------------------------\u001b[0m",
      "\u001b[1;31mTypeError\u001b[0m                                 Traceback (most recent call last)",
      "Cell \u001b[1;32mIn[36], line 5\u001b[0m\n\u001b[0;32m      1\u001b[0m \u001b[38;5;66;03m#Question 9 Python\u001b[39;00m\n\u001b[0;32m      2\u001b[0m \n\u001b[0;32m      3\u001b[0m \u001b[38;5;66;03m#Trying to add incompatible variables, as in adding 6 + ‘a’\u001b[39;00m\n\u001b[1;32m----> 5\u001b[0m \u001b[38;5;28mprint\u001b[39m(\u001b[38;5;241;43m6\u001b[39;49m\u001b[38;5;241;43m+\u001b[39;49m\u001b[43m \u001b[49m\u001b[38;5;124;43m'\u001b[39;49m\u001b[38;5;124;43ma\u001b[39;49m\u001b[38;5;124;43m'\u001b[39;49m)\n",
      "\u001b[1;31mTypeError\u001b[0m: unsupported operand type(s) for +: 'int' and 'str'"
     ]
    }
   ],
   "source": [
    "#Question 9 Python\n",
    "\n",
    "#Trying to add incompatible variables, as in adding 6 + ‘a’\n",
    "\n",
    "print(6+ 'a') #Unsupported operand type"
   ]
  },
  {
   "cell_type": "code",
   "execution_count": 38,
   "id": "aacc3e6d",
   "metadata": {},
   "outputs": [
    {
     "ename": "IndexError",
     "evalue": "list index out of range",
     "output_type": "error",
     "traceback": [
      "\u001b[1;31m---------------------------------------------------------------------------\u001b[0m",
      "\u001b[1;31mIndexError\u001b[0m                                Traceback (most recent call last)",
      "Cell \u001b[1;32mIn[38], line 5\u001b[0m\n\u001b[0;32m      1\u001b[0m \u001b[38;5;66;03m#Referring to the 12th item of a list that has only 10 items\u001b[39;00m\n\u001b[0;32m      3\u001b[0m \u001b[38;5;28mlist\u001b[39m \u001b[38;5;241m=\u001b[39m [\u001b[38;5;241m1\u001b[39m,\u001b[38;5;241m2\u001b[39m,\u001b[38;5;241m3\u001b[39m,\u001b[38;5;241m4\u001b[39m,\u001b[38;5;241m5\u001b[39m,\u001b[38;5;241m6\u001b[39m,\u001b[38;5;241m7\u001b[39m,\u001b[38;5;241m8\u001b[39m,\u001b[38;5;241m9\u001b[39m,\u001b[38;5;241m10\u001b[39m]\n\u001b[1;32m----> 5\u001b[0m \u001b[38;5;28;43mlist\u001b[39;49m\u001b[43m[\u001b[49m\u001b[38;5;241;43m12\u001b[39;49m\u001b[43m]\u001b[49m\n",
      "\u001b[1;31mIndexError\u001b[0m: list index out of range"
     ]
    }
   ],
   "source": [
    "#Referring to the 12th item of a list that has only 10 items\n",
    "\n",
    "list = [1,2,3,4,5,6,7,8,9,10]  #List index out of range\n",
    "\n",
    "list[12]"
   ]
  },
  {
   "cell_type": "code",
   "execution_count": 43,
   "id": "88d0d216",
   "metadata": {},
   "outputs": [
    {
     "ename": "ValueError",
     "evalue": "math domain error",
     "output_type": "error",
     "traceback": [
      "\u001b[1;31m---------------------------------------------------------------------------\u001b[0m",
      "\u001b[1;31mValueError\u001b[0m                                Traceback (most recent call last)",
      "Cell \u001b[1;32mIn[43], line 4\u001b[0m\n\u001b[0;32m      1\u001b[0m \u001b[38;5;66;03m#Using a value that is out of range for a function’s input, such as calling math.sqrt(-1.0)\u001b[39;00m\n\u001b[0;32m      3\u001b[0m \u001b[38;5;28;01mimport\u001b[39;00m \u001b[38;5;21;01mmath\u001b[39;00m\n\u001b[1;32m----> 4\u001b[0m \u001b[38;5;28mprint\u001b[39m(\u001b[43mmath\u001b[49m\u001b[38;5;241;43m.\u001b[39;49m\u001b[43msqrt\u001b[49m\u001b[43m(\u001b[49m\u001b[38;5;241;43m-\u001b[39;49m\u001b[38;5;241;43m1\u001b[39;49m\u001b[43m)\u001b[49m)\n",
      "\u001b[1;31mValueError\u001b[0m: math domain error"
     ]
    }
   ],
   "source": [
    "#Using a value that is out of range for a function’s input, such as calling math.sqrt(-1.0)\n",
    "\n",
    "import math\n",
    "print(math.sqrt(-1)) #Math domain error"
   ]
  },
  {
   "cell_type": "code",
   "execution_count": 44,
   "id": "64084855",
   "metadata": {},
   "outputs": [
    {
     "ename": "NameError",
     "evalue": "name 'x' is not defined",
     "output_type": "error",
     "traceback": [
      "\u001b[1;31m---------------------------------------------------------------------------\u001b[0m",
      "\u001b[1;31mNameError\u001b[0m                                 Traceback (most recent call last)",
      "Cell \u001b[1;32mIn[44], line 3\u001b[0m\n\u001b[0;32m      1\u001b[0m \u001b[38;5;66;03m#Using an undeclared variable, such as print(x) when x has not been defined\u001b[39;00m\n\u001b[1;32m----> 3\u001b[0m \u001b[38;5;28mprint\u001b[39m(\u001b[43mx\u001b[49m)\n",
      "\u001b[1;31mNameError\u001b[0m: name 'x' is not defined"
     ]
    }
   ],
   "source": [
    "#Using an undeclared variable, such as print(x) when x has not been defined\n",
    "\n",
    "print(x)  #syntax error"
   ]
  },
  {
   "cell_type": "code",
   "execution_count": 45,
   "id": "ea239cf0",
   "metadata": {},
   "outputs": [
    {
     "ename": "FileNotFoundError",
     "evalue": "[Errno 2] No such file or directory: 'sample.txt'",
     "output_type": "error",
     "traceback": [
      "\u001b[1;31m---------------------------------------------------------------------------\u001b[0m",
      "\u001b[1;31mFileNotFoundError\u001b[0m                         Traceback (most recent call last)",
      "Cell \u001b[1;32mIn[45], line 1\u001b[0m\n\u001b[1;32m----> 1\u001b[0m infile \u001b[38;5;241m=\u001b[39m \u001b[38;5;28;43mopen\u001b[39;49m\u001b[43m(\u001b[49m\u001b[38;5;124;43m'\u001b[39;49m\u001b[38;5;124;43msample.txt\u001b[39;49m\u001b[38;5;124;43m'\u001b[39;49m\u001b[43m)\u001b[49m\n",
      "File \u001b[1;32m~\\anaconda3\\lib\\site-packages\\IPython\\core\\interactiveshell.py:282\u001b[0m, in \u001b[0;36m_modified_open\u001b[1;34m(file, *args, **kwargs)\u001b[0m\n\u001b[0;32m    275\u001b[0m \u001b[38;5;28;01mif\u001b[39;00m file \u001b[38;5;129;01min\u001b[39;00m {\u001b[38;5;241m0\u001b[39m, \u001b[38;5;241m1\u001b[39m, \u001b[38;5;241m2\u001b[39m}:\n\u001b[0;32m    276\u001b[0m     \u001b[38;5;28;01mraise\u001b[39;00m \u001b[38;5;167;01mValueError\u001b[39;00m(\n\u001b[0;32m    277\u001b[0m         \u001b[38;5;124mf\u001b[39m\u001b[38;5;124m\"\u001b[39m\u001b[38;5;124mIPython won\u001b[39m\u001b[38;5;124m'\u001b[39m\u001b[38;5;124mt let you open fd=\u001b[39m\u001b[38;5;132;01m{\u001b[39;00mfile\u001b[38;5;132;01m}\u001b[39;00m\u001b[38;5;124m by default \u001b[39m\u001b[38;5;124m\"\u001b[39m\n\u001b[0;32m    278\u001b[0m         \u001b[38;5;124m\"\u001b[39m\u001b[38;5;124mas it is likely to crash IPython. If you know what you are doing, \u001b[39m\u001b[38;5;124m\"\u001b[39m\n\u001b[0;32m    279\u001b[0m         \u001b[38;5;124m\"\u001b[39m\u001b[38;5;124myou can use builtins\u001b[39m\u001b[38;5;124m'\u001b[39m\u001b[38;5;124m open.\u001b[39m\u001b[38;5;124m\"\u001b[39m\n\u001b[0;32m    280\u001b[0m     )\n\u001b[1;32m--> 282\u001b[0m \u001b[38;5;28;01mreturn\u001b[39;00m io_open(file, \u001b[38;5;241m*\u001b[39margs, \u001b[38;5;241m*\u001b[39m\u001b[38;5;241m*\u001b[39mkwargs)\n",
      "\u001b[1;31mFileNotFoundError\u001b[0m: [Errno 2] No such file or directory: 'sample.txt'"
     ]
    }
   ],
   "source": [
    "#Trying to open a file that does not exist, such as mistyping the file name or looking in the wrong directory.\n",
    "infile = open('sample.txt') #syntax error"
   ]
  },
  {
   "cell_type": "code",
   "execution_count": 120,
   "id": "45bab9df",
   "metadata": {},
   "outputs": [
    {
     "name": "stdout",
     "output_type": "stream",
     "text": [
      "e\n"
     ]
    }
   ],
   "source": [
    "#Question 10 Python\n",
    "\n",
    "str = \"The quick red fox got bored and went home\"\n",
    "def Frequencies(str):\n",
    "    char = Frequencies.split()\n",
    "    i= char\n",
    "    for x in char:\n",
    "        for i in x:\n",
    "            sum_ = sum(len(x))\n",
    "    return i\n",
    "\n",
    "print(i)\n",
    " \n",
    "\n",
    "\n",
    "#Tried but not succesful in outputs. I will remain attentive to any feedback. Thank you\n",
    "       \n",
    "\n",
    "\n",
    "\n"
   ]
  },
  {
   "cell_type": "code",
   "execution_count": null,
   "id": "307c78c2",
   "metadata": {},
   "outputs": [],
   "source": []
  }
 ],
 "metadata": {
  "kernelspec": {
   "display_name": "Python 3 (ipykernel)",
   "language": "python",
   "name": "python3"
  },
  "language_info": {
   "codemirror_mode": {
    "name": "ipython",
    "version": 3
   },
   "file_extension": ".py",
   "mimetype": "text/x-python",
   "name": "python",
   "nbconvert_exporter": "python",
   "pygments_lexer": "ipython3",
   "version": "3.10.9"
  }
 },
 "nbformat": 4,
 "nbformat_minor": 5
}
